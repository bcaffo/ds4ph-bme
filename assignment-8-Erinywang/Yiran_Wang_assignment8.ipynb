{
  "nbformat": 4,
  "nbformat_minor": 0,
  "metadata": {
    "colab": {
      "name": "Yiran_Wang_assignment8.ipynb",
      "provenance": [],
      "collapsed_sections": [],
      "include_colab_link": true
    },
    "kernelspec": {
      "name": "python3",
      "display_name": "Python 3"
    },
    "language_info": {
      "name": "python"
    }
  },
  "cells": [
    {
      "cell_type": "markdown",
      "metadata": {
        "id": "view-in-github",
        "colab_type": "text"
      },
      "source": [
        "<a href=\"https://colab.research.google.com/github/Erinywang/ds4ph-bme/blob/master/Yiran_Wang_assignment8.ipynb\" target=\"_parent\"><img src=\"https://colab.research.google.com/assets/colab-badge.svg\" alt=\"Open In Colab\"/></a>"
      ]
    },
    {
      "cell_type": "code",
      "metadata": {
        "id": "Gb6h1y7AQlRM"
      },
      "source": [
        "import urllib.request\n",
        "import PIL\n",
        "import matplotlib.pyplot as plt\n",
        "import numpy as np\n",
        "import pandas as pd\n",
        "import tensorflow as tf\n",
        "from tensorflow.keras import datasets, layers, models\n",
        "import matplotlib.pyplot as plt\n",
        "from sklearn.model_selection import train_test_split\n"
      ],
      "execution_count": null,
      "outputs": []
    },
    {
      "cell_type": "code",
      "metadata": {
        "id": "hOkB7qzARsF-"
      },
      "source": [
        "\n",
        "imgURL = \"https://raw.githubusercontent.com/larvalabs/cryptopunks/master/punks.png\"\n",
        "urllib.request.urlretrieve(imgURL, \"cryptoPunksAll.jpg\")\n"
      ],
      "execution_count": null,
      "outputs": []
    },
    {
      "cell_type": "code",
      "metadata": {
        "id": "IXW7seO3R6C0"
      },
      "source": [
        "img = PIL.Image.open(\"cryptoPunksAll.jpg\").convert(\"RGB\")\n",
        "img"
      ],
      "execution_count": null,
      "outputs": []
    },
    {
      "cell_type": "code",
      "metadata": {
        "id": "hVeTn6QZjrS2"
      },
      "source": [
        "finalArray = np.empty((10000,24,24,3))\n",
        "for i in range(100):\n",
        "  for j in range(100):\n",
        "    a, b = 24 * i, 24 * (i + 1)  \n",
        "    c, d = 24 * j, 24 * (j + 1) \n",
        "    idx = j + i * (100)\n",
        "    finalArray[idx,:,:,:] = imgArray[a:b,c:d,:]"
      ],
      "execution_count": null,
      "outputs": []
    },
    {
      "cell_type": "code",
      "metadata": {
        "id": "3oUGAy-XgV-R"
      },
      "source": [
        "plt.figure(figsize = (10,10))\n",
        "for i in range(25):\n",
        "  plt.subplot(5,5,i+1)\n",
        "  plt.imshow(finalArray[i,:,:,:].astype('uint8'))"
      ],
      "execution_count": null,
      "outputs": []
    },
    {
      "cell_type": "code",
      "metadata": {
        "id": "Dbm6AF6Piu7M",
        "colab": {
          "base_uri": "https://localhost:8080/"
        },
        "outputId": "441d572c-c67a-4203-badf-937d1d62e6a2"
      },
      "source": [
        "finalArray.shape"
      ],
      "execution_count": null,
      "outputs": [
        {
          "output_type": "execute_result",
          "data": {
            "text/plain": [
              "(10000, 24, 24, 3)"
            ]
          },
          "metadata": {
            "tags": []
          },
          "execution_count": 56
        }
      ]
    },
    {
      "cell_type": "code",
      "metadata": {
        "id": "DAV73n5voGMx"
      },
      "source": [
        "baseUrl = \"https://raw.githubusercontent.com/cryptopunksnotdead/punks/master/\"\n",
        "for i in range(0,10000, 1000):\n",
        "  url = baseUrl+str(i)+\"-\"+str(i + 999)+\".csv\"\n",
        "  print(url)\n",
        "  if (i == 0):\n",
        "    dat = pd.read_csv(url)\n",
        "  else :\n",
        "    dat = pd.concat ([dat, pd.read_csv(url)], \n",
        "                     join = 'inner',\n",
        "                     ignore_index = True)\n",
        "\n"
      ],
      "execution_count": null,
      "outputs": []
    },
    {
      "cell_type": "code",
      "metadata": {
        "id": "AVq_vQwktis5"
      },
      "source": [
        "dat = dat.assign(earring= (dat[' accessories'].str.find(\"Earring\") > 0) * 1)\n"
      ],
      "execution_count": null,
      "outputs": []
    },
    {
      "cell_type": "markdown",
      "metadata": {
        "id": "oUKHTOehEXQP"
      },
      "source": [
        "Creat Convolutional Base"
      ]
    },
    {
      "cell_type": "code",
      "metadata": {
        "id": "wvtyXEiYEaRE"
      },
      "source": [
        "model =  models.Sequential()\n",
        "model.add(layers.Conv2D(24,(3,3), activation = 'relu', input_shape = (24,24,3)))\n",
        "model.add(layers.MaxPooling2D((2,2)))\n",
        "model.add(layers.Conv2D(48,(3,3), activation = 'relu'))\n",
        "model.add(layers.MaxPooling2D((2,2)))\n",
        "model.add(layers.Conv2D(48,(3,3), activation = 'relu'))"
      ],
      "execution_count": null,
      "outputs": []
    },
    {
      "cell_type": "code",
      "metadata": {
        "id": "cr4khfDWG3mJ"
      },
      "source": [
        "model.add(layers.Flatten())\n",
        "model.add(layers.Dense(48, activation = 'relu'))\n",
        "model.add(layers.Dense(10))"
      ],
      "execution_count": null,
      "outputs": []
    },
    {
      "cell_type": "code",
      "metadata": {
        "id": "ChTuxoCFHbOt"
      },
      "source": [
        "model.summary()"
      ],
      "execution_count": null,
      "outputs": []
    },
    {
      "cell_type": "markdown",
      "metadata": {
        "id": "XMt0l__QJaTj"
      },
      "source": [
        "Prepare dataset"
      ]
    },
    {
      "cell_type": "code",
      "metadata": {
        "id": "SFVv5S70SoBn"
      },
      "source": [
        "x_train, x_test, y_train, y_test = train_test_split(finalArray,\n",
        "                                                    dat.earring,\n",
        "                                                    test_size=0.3,\n",
        "                                                    random_state=42)"
      ],
      "execution_count": null,
      "outputs": []
    },
    {
      "cell_type": "markdown",
      "metadata": {
        "id": "znJiFb7UHmsF"
      },
      "source": [
        "Compile and train the **model**"
      ]
    },
    {
      "cell_type": "code",
      "metadata": {
        "id": "Cm3Iw08sHlrE",
        "colab": {
          "base_uri": "https://localhost:8080/"
        },
        "outputId": "54c33954-4edb-4027-feb8-985fd8f34113"
      },
      "source": [
        "model.compile(optimizer= 'adam',\n",
        "              loss = tf.keras.losses.SparseCategoricalCrossentropy(from_logits=True),\n",
        "              metrics = ['accuracy'])\n",
        "\n",
        "history = model.fit(x_train, y_train,epochs=10,\n",
        "                    validation_data=(x_test, y_test))"
      ],
      "execution_count": null,
      "outputs": [
        {
          "output_type": "stream",
          "text": [
            "Epoch 1/10\n",
            "219/219 [==============================] - 6s 24ms/step - loss: 1.8325 - accuracy: 0.7816 - val_loss: 0.2171 - val_accuracy: 0.9323\n",
            "Epoch 2/10\n",
            "219/219 [==============================] - 5s 22ms/step - loss: 0.2095 - accuracy: 0.9291 - val_loss: 0.2383 - val_accuracy: 0.8880\n",
            "Epoch 3/10\n",
            "219/219 [==============================] - 5s 22ms/step - loss: 0.1681 - accuracy: 0.9360 - val_loss: 0.1564 - val_accuracy: 0.9353\n",
            "Epoch 4/10\n",
            "219/219 [==============================] - 5s 22ms/step - loss: 0.1466 - accuracy: 0.9411 - val_loss: 0.1510 - val_accuracy: 0.9347\n",
            "Epoch 5/10\n",
            "219/219 [==============================] - 5s 22ms/step - loss: 0.1220 - accuracy: 0.9493 - val_loss: 0.1519 - val_accuracy: 0.9293\n",
            "Epoch 6/10\n",
            "219/219 [==============================] - 5s 21ms/step - loss: 0.1259 - accuracy: 0.9488 - val_loss: 0.1535 - val_accuracy: 0.9470\n",
            "Epoch 7/10\n",
            "219/219 [==============================] - 5s 22ms/step - loss: 0.1174 - accuracy: 0.9498 - val_loss: 0.1401 - val_accuracy: 0.9463\n",
            "Epoch 8/10\n",
            "219/219 [==============================] - 5s 21ms/step - loss: 0.1251 - accuracy: 0.9416 - val_loss: 0.1443 - val_accuracy: 0.9480\n",
            "Epoch 9/10\n",
            "219/219 [==============================] - 5s 21ms/step - loss: 0.1157 - accuracy: 0.9484 - val_loss: 0.1443 - val_accuracy: 0.9493\n",
            "Epoch 10/10\n",
            "219/219 [==============================] - 5s 22ms/step - loss: 0.1151 - accuracy: 0.9515 - val_loss: 0.1362 - val_accuracy: 0.9443\n"
          ],
          "name": "stdout"
        }
      ]
    },
    {
      "cell_type": "markdown",
      "metadata": {
        "id": "eS9T2v1SPqUl"
      },
      "source": [
        "Evaluate accuracy"
      ]
    },
    {
      "cell_type": "code",
      "metadata": {
        "id": "eNz1sZd8PpyI",
        "colab": {
          "base_uri": "https://localhost:8080/",
          "height": 300
        },
        "outputId": "88c730db-1507-4eb6-80bb-3c99775bc72e"
      },
      "source": [
        "plt.plot(history.history['accuracy'], label='accuracy')\n",
        "plt.plot(history.history['val_accuracy'], label='val_accuracy')\n",
        "plt.xlabel('Epoch')\n",
        "plt.ylabel('Accuarcy')\n",
        "plt.ylim([0.5, 1])\n",
        "plt.legend(loc='lower right')\n",
        "\n",
        "test_loss, test_acc = model.evaluate(x_test, y_test, verbose=2)"
      ],
      "execution_count": null,
      "outputs": [
        {
          "output_type": "stream",
          "text": [
            "94/94 - 1s - loss: 0.1362 - accuracy: 0.9443\n"
          ],
          "name": "stdout"
        },
        {
          "output_type": "display_data",
          "data": {
            "image/png": "[encoded data removed]",
            "text/plain": [
              "<Figure size 432x288 with 1 Axes>"
            ]
          },
          "metadata": {
            "tags": [],
            "needs_background": "light"
          }
        }
      ]
    },
    {
      "cell_type": "code",
      "metadata": {
        "id": "FJzWalt4oDvH",
        "colab": {
          "base_uri": "https://localhost:8080/"
        },
        "outputId": "09a62b80-535e-45b4-e261-a64f9bca8b21"
      },
      "source": [
        "print(test_acc)"
      ],
      "execution_count": null,
      "outputs": [
        {
          "output_type": "stream",
          "text": [
            "0.9443333148956299\n"
          ],
          "name": "stdout"
        }
      ]
    }
  ]
}
